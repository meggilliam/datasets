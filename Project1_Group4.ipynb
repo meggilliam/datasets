{
  "nbformat": 4,
  "nbformat_minor": 0,
  "metadata": {
    "colab": {
      "name": "Project1_Group4.ipynb",
      "provenance": [],
      "collapsed_sections": [],
      "include_colab_link": true
    },
    "kernelspec": {
      "name": "python3",
      "display_name": "Python 3"
    }
  },
  "cells": [
    {
      "cell_type": "markdown",
      "metadata": {
        "id": "view-in-github",
        "colab_type": "text"
      },
      "source": [
        "<a href=\"https://colab.research.google.com/github/meggilliam/datasets/blob/main/Project1_Group4.ipynb\" target=\"_parent\"><img src=\"https://colab.research.google.com/assets/colab-badge.svg\" alt=\"Open In Colab\"/></a>"
      ]
    },
    {
      "cell_type": "markdown",
      "metadata": {
        "id": "LSjoi81XIqts"
      },
      "source": [
        "Dataset Source: [ICS.UCI.EDU](https://archive.ics.uci.edu/ml/datasets/Wine+Quality)"
      ]
    },
    {
      "cell_type": "markdown",
      "metadata": {
        "id": "iVqofSa3UZDj"
      },
      "source": [
        "## **Set up the Environment and Import the Data**"
      ]
    },
    {
      "cell_type": "code",
      "metadata": {
        "id": "WRV1if1KEH05"
      },
      "source": [
        "# Setup the Environment\n",
        "import pandas as pd\n",
        "import numpy as np\n",
        "import matplotlib.pyplot as plt\n",
        "from sklearn import svm, metrics\n",
        "from sklearn.svm import LinearSVC\n",
        "from sklearn.model_selection import train_test_split\n",
        "from sklearn.neural_network import MLPClassifier\n",
        "from sklearn.preprocessing import StandardScaler\n",
        "from sklearn.metrics import classification_report,confusion_matrix, plot_confusion_matrix, accuracy_score\n",
        "from sklearn.ensemble import RandomForestClassifier\n",
        "import seaborn as sns"
      ],
      "execution_count": 13,
      "outputs": []
    },
    {
      "cell_type": "code",
      "metadata": {
        "id": "BA3KgJbJGOlO",
        "outputId": "c75f8f9d-ac19-4420-eaa6-838d05d8ef63",
        "colab": {
          "base_uri": "https://localhost:8080/",
          "height": 221
        }
      },
      "source": [
        "# Import the Dataset for Red Wine - hosted on Github\n",
        "#ahhhsnap. I imported this wrong the first time. Sorry y'all. -M\n",
        "url = 'https://raw.githubusercontent.com/meggilliam/datasets/main/winequality-red.csv'\n",
        "col_names = ['fixed acidity', 'volatile acidity', 'citric acid', 'residual sugar', 'chlorides', 'free sulfur dioxide', 'total sulfur dioxide', 'density', 'pH', 'sulphates', 'alcohol', 'quality']\n",
        "wine = pd.read_csv(url, sep = \";\", quoting = 3)\n",
        "\n",
        "## Leave all these extra quotation marks in here! It's messy, but it works.\n",
        "feature_cols = ['\"fixed acidity', '\"\"volatile acidity\"\"', '\"\"citric acid\"\"', '\"\"residual sugar\"\"', '\"\"chlorides\"\"', '\"\"free sulfur dioxide\"\"', '\"\"total sulfur dioxide\"\"', '\"\"density\"\"', '\"\"pH\"\"', '\"\"sulphates\"\"', '\"\"alcohol\"\"']\n",
        "target_col = ['\"\"quality\"\"\"']\n",
        "\n",
        "wine.columns\n",
        "wine.head()"
      ],
      "execution_count": 2,
      "outputs": [
        {
          "output_type": "execute_result",
          "data": {
            "text/html": [
              "<div>\n",
              "<style scoped>\n",
              "    .dataframe tbody tr th:only-of-type {\n",
              "        vertical-align: middle;\n",
              "    }\n",
              "\n",
              "    .dataframe tbody tr th {\n",
              "        vertical-align: top;\n",
              "    }\n",
              "\n",
              "    .dataframe thead th {\n",
              "        text-align: right;\n",
              "    }\n",
              "</style>\n",
              "<table border=\"1\" class=\"dataframe\">\n",
              "  <thead>\n",
              "    <tr style=\"text-align: right;\">\n",
              "      <th></th>\n",
              "      <th>\"fixed acidity</th>\n",
              "      <th>\"\"volatile acidity\"\"</th>\n",
              "      <th>\"\"citric acid\"\"</th>\n",
              "      <th>\"\"residual sugar\"\"</th>\n",
              "      <th>\"\"chlorides\"\"</th>\n",
              "      <th>\"\"free sulfur dioxide\"\"</th>\n",
              "      <th>\"\"total sulfur dioxide\"\"</th>\n",
              "      <th>\"\"density\"\"</th>\n",
              "      <th>\"\"pH\"\"</th>\n",
              "      <th>\"\"sulphates\"\"</th>\n",
              "      <th>\"\"alcohol\"\"</th>\n",
              "      <th>\"\"quality\"\"\"</th>\n",
              "    </tr>\n",
              "  </thead>\n",
              "  <tbody>\n",
              "    <tr>\n",
              "      <th>0</th>\n",
              "      <td>7.4</td>\n",
              "      <td>0.70</td>\n",
              "      <td>0.00</td>\n",
              "      <td>1.9</td>\n",
              "      <td>0.076</td>\n",
              "      <td>11.0</td>\n",
              "      <td>34.0</td>\n",
              "      <td>0.9978</td>\n",
              "      <td>3.51</td>\n",
              "      <td>0.56</td>\n",
              "      <td>9.4</td>\n",
              "      <td>5</td>\n",
              "    </tr>\n",
              "    <tr>\n",
              "      <th>1</th>\n",
              "      <td>7.8</td>\n",
              "      <td>0.88</td>\n",
              "      <td>0.00</td>\n",
              "      <td>2.6</td>\n",
              "      <td>0.098</td>\n",
              "      <td>25.0</td>\n",
              "      <td>67.0</td>\n",
              "      <td>0.9968</td>\n",
              "      <td>3.20</td>\n",
              "      <td>0.68</td>\n",
              "      <td>9.8</td>\n",
              "      <td>5</td>\n",
              "    </tr>\n",
              "    <tr>\n",
              "      <th>2</th>\n",
              "      <td>7.8</td>\n",
              "      <td>0.76</td>\n",
              "      <td>0.04</td>\n",
              "      <td>2.3</td>\n",
              "      <td>0.092</td>\n",
              "      <td>15.0</td>\n",
              "      <td>54.0</td>\n",
              "      <td>0.9970</td>\n",
              "      <td>3.26</td>\n",
              "      <td>0.65</td>\n",
              "      <td>9.8</td>\n",
              "      <td>5</td>\n",
              "    </tr>\n",
              "    <tr>\n",
              "      <th>3</th>\n",
              "      <td>11.2</td>\n",
              "      <td>0.28</td>\n",
              "      <td>0.56</td>\n",
              "      <td>1.9</td>\n",
              "      <td>0.075</td>\n",
              "      <td>17.0</td>\n",
              "      <td>60.0</td>\n",
              "      <td>0.9980</td>\n",
              "      <td>3.16</td>\n",
              "      <td>0.58</td>\n",
              "      <td>9.8</td>\n",
              "      <td>6</td>\n",
              "    </tr>\n",
              "    <tr>\n",
              "      <th>4</th>\n",
              "      <td>7.4</td>\n",
              "      <td>0.70</td>\n",
              "      <td>0.00</td>\n",
              "      <td>1.9</td>\n",
              "      <td>0.076</td>\n",
              "      <td>11.0</td>\n",
              "      <td>34.0</td>\n",
              "      <td>0.9978</td>\n",
              "      <td>3.51</td>\n",
              "      <td>0.56</td>\n",
              "      <td>9.4</td>\n",
              "      <td>5</td>\n",
              "    </tr>\n",
              "  </tbody>\n",
              "</table>\n",
              "</div>"
            ],
            "text/plain": [
              "   \"fixed acidity  \"\"volatile acidity\"\"  ...  \"\"alcohol\"\"  \"\"quality\"\"\"\n",
              "0             7.4                  0.70  ...          9.4             5\n",
              "1             7.8                  0.88  ...          9.8             5\n",
              "2             7.8                  0.76  ...          9.8             5\n",
              "3            11.2                  0.28  ...          9.8             6\n",
              "4             7.4                  0.70  ...          9.4             5\n",
              "\n",
              "[5 rows x 12 columns]"
            ]
          },
          "metadata": {
            "tags": []
          },
          "execution_count": 2
        }
      ]
    },
    {
      "cell_type": "markdown",
      "metadata": {
        "id": "haxGXkkmUOVq"
      },
      "source": [
        "## **Create a SVM**"
      ]
    },
    {
      "cell_type": "code",
      "metadata": {
        "id": "-1LdFB7P4NCJ",
        "outputId": "98a33bcf-8647-4980-9c07-84a7c12ec059",
        "colab": {
          "base_uri": "https://localhost:8080/",
          "height": 581
        }
      },
      "source": [
        "# Run SVM\n",
        "#Train test split\n",
        "#split original dataset into input (X) and output (y) columns\n",
        "#the last column is the target/output column\n",
        "X = wine[feature_cols]       \n",
        "Y = wine[target_col]                         \n",
        "\n",
        "X_Train, X_Test, Y_Train, Y_Test = train_test_split(X, Y, test_size = .3, random_state= 40)\n",
        "\n",
        "supportModel = svm.SVC(kernel='rbf').fit(X_Train, Y_Train)\n",
        "\n",
        "#print test accurancy and train accurancy\n",
        "print(\"The test set accurancy is: {:.3f}\". format(supportModel.score(X_Test, Y_Test)))\n",
        "print(\"The train set accurancy is: {:.3f}\". format(supportModel.score(X_Train, Y_Train)))\n",
        "\n",
        "#compute min value per feature on training set\n",
        "min_on_training = X_Train.min(axis=0)\n",
        "#compute the range of each feature:max-min on training set\n",
        "range_on_training = (X_Train - min_on_training).max(axis=0)\n",
        "\n",
        "#subtract min and divide by range afterward, min=0 and max=1\n",
        "X_Train_scaled = (X_Train - min_on_training)/range_on_training\n",
        "print(\"Minimum for each feature\\n\", X_Train_scaled.min(axis=0))\n",
        "print(\"Maximum for each feature\\n\", X_Train_scaled.max(axis=0))\n",
        "\n",
        "# use THE SAME transformation on the test set,\n",
        "# using min and range of the training set.\n",
        "X_Test_scaled = (X_Test - min_on_training) / range_on_training\n",
        "\n",
        "svc = svm.SVC()\n",
        "svc.fit(X_Train_scaled, Y_Train.values.ravel())\n",
        "\n",
        "print(\"Accuracy on training set: {:.3f}\".format(svc.score(X_Train_scaled, Y_Train)))\n",
        "print(\"Accuracy on test set: {:.3f}\".format(svc.score(X_Test_scaled, Y_Test)))"
      ],
      "execution_count": 33,
      "outputs": [
        {
          "output_type": "stream",
          "text": [
            "/usr/local/lib/python3.6/dist-packages/sklearn/utils/validation.py:760: DataConversionWarning: A column-vector y was passed when a 1d array was expected. Please change the shape of y to (n_samples, ), for example using ravel().\n",
            "  y = column_or_1d(y, warn=True)\n"
          ],
          "name": "stderr"
        },
        {
          "output_type": "stream",
          "text": [
            "The test set accurancy is: 0.487\n",
            "The train set accurancy is: 0.514\n",
            "Minimum for each feature\n",
            " \"fixed acidity              0.0\n",
            "\"\"volatile acidity\"\"        0.0\n",
            "\"\"citric acid\"\"             0.0\n",
            "\"\"residual sugar\"\"          0.0\n",
            "\"\"chlorides\"\"               0.0\n",
            "\"\"free sulfur dioxide\"\"     0.0\n",
            "\"\"total sulfur dioxide\"\"    0.0\n",
            "\"\"density\"\"                 0.0\n",
            "\"\"pH\"\"                      0.0\n",
            "\"\"sulphates\"\"               0.0\n",
            "\"\"alcohol\"\"                 0.0\n",
            "dtype: float64\n",
            "Maximum for each feature\n",
            " \"fixed acidity              1.0\n",
            "\"\"volatile acidity\"\"        1.0\n",
            "\"\"citric acid\"\"             1.0\n",
            "\"\"residual sugar\"\"          1.0\n",
            "\"\"chlorides\"\"               1.0\n",
            "\"\"free sulfur dioxide\"\"     1.0\n",
            "\"\"total sulfur dioxide\"\"    1.0\n",
            "\"\"density\"\"                 1.0\n",
            "\"\"pH\"\"                      1.0\n",
            "\"\"sulphates\"\"               1.0\n",
            "\"\"alcohol\"\"                 1.0\n",
            "dtype: float64\n",
            "Accuracy on training set: 0.648\n",
            "Accuracy on test set: 0.621\n"
          ],
          "name": "stdout"
        }
      ]
    },
    {
      "cell_type": "markdown",
      "metadata": {
        "id": "3ZA2Rq9zUAT1"
      },
      "source": [
        "## **Determine the most Influential Features with a Random Forest**"
      ]
    },
    {
      "cell_type": "code",
      "metadata": {
        "id": "qMyQU9ccSotb",
        "outputId": "9705c971-144c-4413-c562-4d108853eb9b",
        "colab": {
          "base_uri": "https://localhost:8080/",
          "height": 312
        }
      },
      "source": [
        "#Determine the two most influential Features\n",
        "rfc = RandomForestClassifier(n_estimators = 1000)\n",
        "rfc.fit(X_Train, Y_Train.values.ravel())\n",
        "feature_imp = pd.Series(rfc.feature_importances_,index=feature_cols).sort_values(ascending=False)\n",
        "feature_imp\n",
        "sns.barplot(x=feature_imp, y=feature_imp.index)\n",
        "# Add labels to your graph\n",
        "plt.xlabel('Feature Importance Score')\n",
        "plt.ylabel('Features')\n",
        "plt.title(\"Visualizing Important Features\")\n",
        "plt.legend()\n",
        "plt.show()\n"
      ],
      "execution_count": 17,
      "outputs": [
        {
          "output_type": "stream",
          "text": [
            "No handles with labels found to put in legend.\n"
          ],
          "name": "stderr"
        },
        {
          "output_type": "display_data",
          "data": {
            "image/png": "[encoded data removed]",
            "text/plain": [
              "<Figure size 432x288 with 1 Axes>"
            ]
          },
          "metadata": {
            "tags": [],
            "needs_background": "light"
          }
        }
      ]
    },
    {
      "cell_type": "markdown",
      "metadata": {
        "id": "h9rGU75SUIb5"
      },
      "source": [
        "## **Create a Neural Network**"
      ]
    },
    {
      "cell_type": "code",
      "metadata": {
        "id": "w50c0AfCbFhv",
        "outputId": "c192deca-48aa-46de-d5fc-3ed3f17de4ef",
        "colab": {
          "base_uri": "https://localhost:8080/",
          "height": 571
        }
      },
      "source": [
        "# Run NN -- \n",
        "# Scale the data\n",
        "scaler = StandardScaler()\n",
        "scaler.fit(X_Train)\n",
        "X_TrainNN = scaler.transform(X_Train)   #Use the original train/test variables, but scale them into a Neural Network-Specific variable set\n",
        "X_TestNN = scaler.transform(X_Test)\n",
        "\n",
        "# Initializing the multilayer perceptron\n",
        "mlp = MLPClassifier(hidden_layer_sizes=(100,),solver='adam',learning_rate_init= 0.01, max_iter=1000, early_stopping=True)\n",
        "\n",
        "# Train the model\n",
        "mlp.fit(X_TrainNN, Y_Train.values.ravel())\n",
        "\n",
        "# Generate Predictions\n",
        "predictions = mlp.predict(X_TestNN)\n",
        "plot_confusion_matrix(mlp,X_TestNN,Y_Test)\n",
        "plt.show()\n",
        "print(classification_report(Y_Test,predictions))\n",
        "\n",
        "Y_pred = mlp.predict(X_TestNN)\n",
        "print('Accuracy: %.2f' % accuracy_score(Y_Test, Y_pred))"
      ],
      "execution_count": 31,
      "outputs": [
        {
          "output_type": "display_data",
          "data": {
            "image/png": "[encoded data removed]",
            "text/plain": [
              "<Figure size 432x288 with 2 Axes>"
            ]
          },
          "metadata": {
            "tags": [],
            "needs_background": "light"
          }
        },
        {
          "output_type": "stream",
          "text": [
            "              precision    recall  f1-score   support\n",
            "\n",
            "           3       0.00      0.00      0.00         3\n",
            "           4       0.00      0.00      0.00         8\n",
            "           5       0.69      0.71      0.70       136\n",
            "           6       0.51      0.74      0.60       125\n",
            "           7       0.00      0.00      0.00        42\n",
            "           8       0.00      0.00      0.00         6\n",
            "\n",
            "    accuracy                           0.59       320\n",
            "   macro avg       0.20      0.24      0.22       320\n",
            "weighted avg       0.49      0.59      0.53       320\n",
            "\n",
            "Accuracy: 0.59\n"
          ],
          "name": "stdout"
        },
        {
          "output_type": "stream",
          "text": [
            "/usr/local/lib/python3.6/dist-packages/sklearn/metrics/_classification.py:1272: UndefinedMetricWarning: Precision and F-score are ill-defined and being set to 0.0 in labels with no predicted samples. Use `zero_division` parameter to control this behavior.\n",
            "  _warn_prf(average, modifier, msg_start, len(result))\n"
          ],
          "name": "stderr"
        }
      ]
    },
    {
      "cell_type": "code",
      "metadata": {
        "id": "Mac2R-FCbHMl"
      },
      "source": [
        "# Run Third Algorithm"
      ],
      "execution_count": null,
      "outputs": []
    },
    {
      "cell_type": "code",
      "metadata": {
        "id": "0_EzewpXbKnV"
      },
      "source": [
        ""
      ],
      "execution_count": null,
      "outputs": []
    }
  ]
}